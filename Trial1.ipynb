{
  "nbformat": 4,
  "nbformat_minor": 0,
  "metadata": {
    "colab": {
      "provenance": [],
      "authorship_tag": "ABX9TyMdAOH1oW0IKlftAXvsluQO",
      "include_colab_link": true
    },
    "kernelspec": {
      "name": "python3",
      "display_name": "Python 3"
    },
    "language_info": {
      "name": "python"
    }
  },
  "cells": [
    {
      "cell_type": "markdown",
      "metadata": {
        "id": "view-in-github",
        "colab_type": "text"
      },
      "source": [
        "<a href=\"https://colab.research.google.com/github/aarakali/Adjustments-Short-Story-2020/blob/EPUB-Version/Trial1.ipynb\" target=\"_parent\"><img src=\"https://colab.research.google.com/assets/colab-badge.svg\" alt=\"Open In Colab\"/></a>"
      ]
    },
    {
      "cell_type": "code",
      "execution_count": 1,
      "metadata": {
        "id": "GRU4ZwOnmZOJ"
      },
      "outputs": [],
      "source": [
        "import tensorflow as tf\n"
      ]
    },
    {
      "cell_type": "code",
      "source": [
        "import numpy as np\n"
      ],
      "metadata": {
        "id": "MvTokeVMoP45"
      },
      "execution_count": 2,
      "outputs": []
    },
    {
      "cell_type": "code",
      "source": [
        "import matplotlib.pyplot as plt\n"
      ],
      "metadata": {
        "id": "t7wDAcIroWnM"
      },
      "execution_count": 3,
      "outputs": []
    },
    {
      "cell_type": "code",
      "source": [
        "observations = 1000"
      ],
      "metadata": {
        "id": "wCkS3Zt2rcDp"
      },
      "execution_count": 4,
      "outputs": []
    },
    {
      "cell_type": "code",
      "source": [
        "xs = np.random.uniform(low=-10, high=10, size=(observations,1))\n"
      ],
      "metadata": {
        "id": "wbwKtIqy16IT"
      },
      "execution_count": 5,
      "outputs": []
    },
    {
      "cell_type": "code",
      "source": [
        "zs = np.random.uniform(-10, 10, (observations,1))\n"
      ],
      "metadata": {
        "id": "Hf8rEdAm2Cl-"
      },
      "execution_count": 6,
      "outputs": []
    },
    {
      "cell_type": "code",
      "source": [
        "generated_inputs = np.column_stack((xs,zs))\n"
      ],
      "metadata": {
        "id": "lr7B7e3m2R7r"
      },
      "execution_count": 7,
      "outputs": []
    },
    {
      "cell_type": "code",
      "source": [
        "noise = np.random.uniform(-1, 1, (observations,1))\n"
      ],
      "metadata": {
        "id": "J6lpi_dW2btW"
      },
      "execution_count": 8,
      "outputs": []
    },
    {
      "cell_type": "code",
      "source": [
        "generated_targets = 2*xs - 3*zs + 5 + noise\n"
      ],
      "metadata": {
        "id": "J-fKH1Y22hZQ"
      },
      "execution_count": 9,
      "outputs": []
    },
    {
      "cell_type": "code",
      "source": [
        "np.savez('TF_intro', inputs=generated_inputs, targets=generated_targets)\n"
      ],
      "metadata": {
        "id": "WWi3ycyB2lCa"
      },
      "execution_count": 10,
      "outputs": []
    }
  ]
}